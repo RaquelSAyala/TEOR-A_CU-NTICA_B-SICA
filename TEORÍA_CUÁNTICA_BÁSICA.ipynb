{
 "cells": [
  {
   "cell_type": "markdown",
   "metadata": {},
   "source": [
    "## TEORÍA CUÁNTICA BÁSICA, OBSERVABLES Y MEDIDAS\n",
    "\n",
    "### SIMULE EL PRIMER SISTEMA CUÁNTICO DESCRITO EN LA SECCIÓN 4.1\n",
    "El sistema consiste en una partícula confinada a un conjunto discreto de posiciones en una línea. El simulador debe permitir especificar el número de posiciones y un vector ket de estado asignando las amplitudes.\n",
    "\n",
    "1. El sistema debe calcular la probabilidad de encontrarlo en una posición en particular.\n",
    "\n",
    "2. El sistema si se le da otro vector Ket debe buscar la probabilidad de transitar del primer vector al segundo.\n",
    "\n",
    "### COMPLETE LOS RETOS DE PROGRAMACIÓN DEL CAPÍTULO 4.\n",
    "1. Amplitud de transición. El sistema puede recibir dos vectores y calcular la probabilidad de transitar de el uno al otro después de hacer la observación\n",
    "\n",
    "2. Ahora con una matriz que describa un observable y un vector ket, el sistema revisa que la matriz sea hermitiana, y si lo es, calcula la media y la varianza del observable en el estado dado.\n",
    "\n",
    "3. El sistema calcula los valores propios del observable y la probabilidad de que el sistema transite a alguno de los vectores propios después de la observación.\n",
    "\n",
    "4. Se considera la dinámica del sistema. Ahora con una serie de matrices Un el sistema calcula el estado final a partir de un estado inicial.\n",
    "\n",
    "### REALICE LOS SIGUIENTES PROBLEMAS E INCLUYALOS COMO EJEMPLOS\n",
    "Modele en su librería los problemas\n",
    "- 4.3.1\n",
    "- 4.3.2\n",
    "- 4.4.1\n",
    "- 4.4.2\n"
   ]
  },
  {
   "cell_type": "markdown",
   "metadata": {},
   "source": []
  },
  {
   "cell_type": "markdown",
   "metadata": {},
   "source": [
    "## Solución \n",
    "1. El sistema debe calcular la probabilidad de encontrarlo en una posición en particular."
   ]
  },
  {
   "cell_type": "code",
   "execution_count": 52,
   "metadata": {},
   "outputs": [
    {
     "name": "stdout",
     "output_type": "stream",
     "text": [
      "La probabilidad es: 2.1739130434782608\n"
     ]
    }
   ],
   "source": [
    "import numpy as np\n",
    "\n",
    "v = [2+1j, -1+2j, 1j, 1+0j, 3-1j, 2+0j, -2j, -2+1j, 1-3j, -1j]\n",
    "p = 10\n",
    "\n",
    "def superposicion(v, p):\n",
    "    norma = np.linalg.norm(v) ** 2  # calcula la norma al cuadrado del vector\n",
    "    probabilidad = abs(p) ** 2 / norma  # calcula la probabilidad\n",
    "    return probabilidad\n",
    "\n",
    "# Llama a la función e imprime el resultado\n",
    "resultado = superposicion(v, p)\n",
    "print(\"La probabilidad es:\", resultado)\n"
   ]
  },
  {
   "cell_type": "markdown",
   "metadata": {},
   "source": [
    "\n",
    "2. El sistema si se le da otro vector Ket debe buscar la probabilidad de transitar del primer vector al segundo."
   ]
  },
  {
   "cell_type": "code",
   "execution_count": 53,
   "metadata": {},
   "outputs": [
    {
     "name": "stdout",
     "output_type": "stream",
     "text": [
      "Probabilidad de transitar del vector v1 al vector v2: 30.09730963953756\n"
     ]
    }
   ],
   "source": [
    "import numpy as np\n",
    "\n",
    "v1 = [(5+2j), (-3j)]\n",
    "v2 = [(5+2j), (1-1j)]\n",
    "\n",
    "def prob_ket(v1, v2):\n",
    "    norma1 = np.linalg.norm(v1)  # norma del primer vector\n",
    "    norma2 = np.linalg.norm(v2)  # norma del segundo vector\n",
    "    pro_int = np.vdot(v1, v2)  # producto interno de los dos vectores\n",
    "    probabilidad = abs(pro_int) ** 2 / (norma1 * norma2)  # calcula la probabilidad\n",
    "    return probabilidad\n",
    "\n",
    "# Llama a la función e imprime el resultado\n",
    "resultado = prob_ket(v1, v2)\n",
    "print(\"Probabilidad de transitar del vector v1 al vector v2:\", resultado)"
   ]
  },
  {
   "cell_type": "markdown",
   "metadata": {},
   "source": [
    "\n",
    "## Reto 1: Amplitud de Transición\n"
   ]
  },
  {
   "cell_type": "code",
   "execution_count": 54,
   "metadata": {},
   "outputs": [
    {
     "name": "stdout",
     "output_type": "stream",
     "text": [
      "Amplitud de transición entre v1 y v2: 30.09730963953756\n"
     ]
    }
   ],
   "source": [
    "import numpy as np\n",
    "\n",
    "v1 = [(5+2j), (-3j)]\n",
    "v2 = [(5+2j), (1-1j)]\n",
    "\n",
    "def AmplitudTransition(v1, v2):\n",
    "    pro_int = np.vdot(v1, v2)  # producto interno de los dos vectores\n",
    "    norma1 = np.linalg.norm(v1)  # norma del primer vector\n",
    "    norma2 = np.linalg.norm(v2)  # norma del segundo vector\n",
    "    probabilidad = abs(pro_int) ** 2 / (norma1 * norma2)  # calcula la probabilidad\n",
    "    return probabilidad\n",
    "\n",
    "# Llama a la función e imprime el resultado\n",
    "resultado = AmplitudTransition(v1, v2)\n",
    "print(\"Amplitud de transición entre v1 y v2:\", resultado)\n",
    "\n"
   ]
  },
  {
   "cell_type": "markdown",
   "metadata": {},
   "source": [
    "## Reto 2: Media y la varianza del observable en el estado dado"
   ]
  },
  {
   "cell_type": "code",
   "execution_count": 55,
   "metadata": {},
   "outputs": [
    {
     "name": "stdout",
     "output_type": "stream",
     "text": [
      "Media y Varianza del observable en el estado: 1.0 -0.5\n"
     ]
    }
   ],
   "source": [
    "import numpy as np\n",
    "import math\n",
    "\n",
    "def media_varianza(observable, estado):\n",
    "    media = np.vdot(estado, np.dot(observable, estado))  # calcula la media\n",
    "    varianza = np.vdot(estado, np.dot(observable ** 2, estado)) - media ** 2  # calcula la varianza\n",
    "    return media, varianza\n",
    "\n",
    "# Definición de observable y estado\n",
    "\n",
    "observable = np.array([[0, 1/2], [1/2, 0]])\n",
    "estado = np.array([1, 1])\n",
    "\n",
    "# Llama a la función\n",
    "media, varianza = media_varianza(observable, estado)\n",
    "\n",
    "# Imprime los resultados\n",
    "print(\"Media y Varianza del observable en el estado:\", media, varianza)\n"
   ]
  },
  {
   "cell_type": "markdown",
   "metadata": {},
   "source": [
    "## Reto 3: Valores Propios y Probabilidad de Transición\n",
    " "
   ]
  },
  {
   "cell_type": "code",
   "execution_count": 56,
   "metadata": {},
   "outputs": [
    {
     "name": "stdout",
     "output_type": "stream",
     "text": [
      "Valores propios: [1.38196601 3.61803399]\n",
      "Probabilidades asociadas: [0.7236067977499788, 0.2763932022500209]\n"
     ]
    }
   ],
   "source": [
    "import numpy as np\n",
    "\n",
    "def valores_propios_probabilidades(observable, estado):\n",
    "    valores_propios, vectores_propios = np.linalg.eig(observable)  # calcula los valores propios y vectores propios\n",
    "    probabilidades = [abs(np.vdot(estado, v)**2) for v in vectores_propios.T]  # calcula las probabilidades\n",
    "    return valores_propios, probabilidades\n",
    "\n",
    "# Definición de observable y estado\n",
    "observable = np.array([[2, 1], [1, 3]])  \n",
    "estado = np.array([1, 0])  \n",
    "\n",
    "# Llama a la función\n",
    "valores_propios, probabilidades = valores_propios_probabilidades(observable, estado)\n",
    "\n",
    "# Imprime los resultados\n",
    "print(\"Valores propios:\", valores_propios)\n",
    "print(\"Probabilidades asociadas:\", probabilidades)\n",
    "\n"
   ]
  },
  {
   "cell_type": "markdown",
   "metadata": {},
   "source": [
    "## Reto 4: El sistema calcula el estado final a partir de un estado inicial."
   ]
  },
  {
   "cell_type": "code",
   "execution_count": 57,
   "metadata": {},
   "outputs": [
    {
     "name": "stdout",
     "output_type": "stream",
     "text": [
      "Estado final después de aplicar las matrices Un: [0.        +0.j         0.        +0.70710678j 0.70710678+0.j\n",
      " 0.        +0.j        ]\n"
     ]
    }
   ],
   "source": [
    "import numpy as np \n",
    "import math\n",
    "\n",
    "matriz = np.array([[0, 1/math.sqrt(2), 1/math.sqrt(2), 0], \n",
    "                   [1j/math.sqrt(2), 0, 0, 1/math.sqrt(2)], \n",
    "                   [1/math.sqrt(2), 0, 0, 1j/math.sqrt(2)], \n",
    "                   [0, 1/math.sqrt(2), -1/math.sqrt(2), 0]])\n",
    "\n",
    "def calcular_estado_final(estado_inicial, matrices_Un):\n",
    "    estado_final = estado_inicial\n",
    "    for matriz in matrices_Un:\n",
    "        estado_final = np.dot(matriz, estado_final)\n",
    "    return estado_final\n",
    "\n",
    "# Datos de entrada\n",
    "estado_inicial = np.array([1, 0, 0, 0])\n",
    "matrices_Un = [matriz]\n",
    "\n",
    "# Llama a la función calcular_estado_final\n",
    "estado_final = calcular_estado_final(estado_inicial, matrices_Un)\n",
    "\n",
    "# Imprime el resultado\n",
    "print(\"Estado final después de aplicar las matrices Un:\", estado_final)\n"
   ]
  },
  {
   "cell_type": "markdown",
   "metadata": {},
   "source": [
    "## Solución de los ejercicios\n",
    "### 4.3.1"
   ]
  },
  {
   "cell_type": "code",
   "execution_count": 58,
   "metadata": {},
   "outputs": [
    {
     "name": "stdout",
     "output_type": "stream",
     "text": [
      "Resultado de 4.3.1: 0.0\n"
     ]
    }
   ],
   "source": [
    "\n",
    "import numpy as np\n",
    "\n",
    "v = [2+1j, -1+2j, 1j, 1+0j, 3-1j, 2+0j, -2j, -2+1j, 1-3j, -1j]\n",
    "p = 10\n",
    "obs = [[0, 1/2], [1/2, 0]]\n",
    "\n",
    "# Define la función mat_vec para la acción de una matriz sobre un vector\n",
    "def mat_vec(mat, v):\n",
    "    mat = np.array(mat)\n",
    "    v = np.array(v)\n",
    "    matriz_vector = np.dot(mat, v)\n",
    "    return matriz_vector\n",
    "\n",
    "# Define la función superposicion para calcular la probabilidad\n",
    "def superposicion(v, p):\n",
    "    norma = np.linalg.norm(v) ** 2  # calcula la norma al cuadrado del vector\n",
    "    probabilidad = abs(p) ** 2 / norma  # calcula la probabilidad\n",
    "    return probabilidad\n",
    "\n",
    "# Define la función ej1\n",
    "def ej1(obs):\n",
    "    spin_up = np.array([1, 0])  # Vector spinup\n",
    "    accionV_Obs = mat_vec(obs, spin_up)\n",
    "    result = superposicion(accionV_Obs, 0)\n",
    "    return result\n",
    "\n",
    "# Llama a la función ej1 con obs como argumento\n",
    "resultado = ej1(obs)\n",
    "\n",
    "# Imprime el resultado\n",
    "print(\"Resultado de 4.3.1:\", resultado)\n"
   ]
  },
  {
   "cell_type": "markdown",
   "metadata": {},
   "source": [
    "### 4.3.2"
   ]
  },
  {
   "cell_type": "code",
   "execution_count": 1,
   "metadata": {},
   "outputs": [
    {
     "name": "stdout",
     "output_type": "stream",
     "text": [
      "Resultado de 4.3.2: -0.019337567297406433\n"
     ]
    }
   ],
   "source": [
    "import numpy as np\n",
    "\n",
    "# Definición de la función producto_inner para calcular el producto interno de dos vectores\n",
    "def producto_inner(v1, v2):\n",
    "    prod = 0\n",
    "    for i in range(len(v1)):\n",
    "        prod += v2[i] * v1[i].conjugate()\n",
    "    return prod\n",
    "\n",
    "# Definición de la función para normalizar un vector\n",
    "def normV(v):\n",
    "    for i in range(len(v)):\n",
    "        v[i] = v[i] / (np.linalg.norm(v))\n",
    "    return v\n",
    "\n",
    "# Definición de la función vect_propios para encontrar los vectores propios de una matriz\n",
    "def vect_propios(mat):\n",
    "    mat = np.array(mat)\n",
    "    valoresPropios, vectoresPropios = np.linalg.eig(mat)  # Vectores propios\n",
    "    return vectoresPropios\n",
    "\n",
    "# Definición de la función ej2\n",
    "def ej2(obs):\n",
    "    spin_up = np.array([1, 0])  # Vector spinup\n",
    "    valoresProp, vectoresProp = np.linalg.eigvals(obs), vect_propios(obs)\n",
    "    vectoresPropios = normV(vectoresProp)\n",
    "    accion_obsV = np.dot(obs, spin_up)\n",
    "    producto1 = producto_inner(accion_obsV, vectoresPropios[0])\n",
    "    n1 = np.linalg.norm(producto1)  # Calcula uno de los vectores norma del producto\n",
    "    producto2 = producto_inner(accion_obsV, vectoresPropios[1])\n",
    "    n2 = np.linalg.norm(producto2)  # Calcula uno de los vectores norma del producto\n",
    "    res = n1 * valoresProp[0] + n2 * valoresProp[1]\n",
    "    return res\n",
    "\n",
    "# Llamada a la función ej2\n",
    "obs = np.array([[0, 1/2], [1/2, 0]])  # Definimos la matriz de observación obs\n",
    "resultado = ej2(obs)\n",
    "\n",
    "# Imprime el resultado\n",
    "print(\"Resultado de 4.3.2:\", resultado)\n",
    "\n"
   ]
  },
  {
   "cell_type": "markdown",
   "metadata": {},
   "source": [
    "### 4.4.1"
   ]
  },
  {
   "cell_type": "code",
   "execution_count": 60,
   "metadata": {},
   "outputs": [
    {
     "name": "stdout",
     "output_type": "stream",
     "text": [
      "Resultado de 4.4.1: False\n"
     ]
    }
   ],
   "source": [
    "import numpy as np \n",
    "import math\n",
    "\n",
    "mat1 =[[0, 1],[1,0]]\n",
    "mat2 =[[math.sqrt(2)/2, math.sqrt(2)/2,],[math.sqrt(2)/2,-(math.sqrt(2)/2)]]\n",
    "\n",
    "def ej3(mat1, mat2):\n",
    "    mat1_C, mat2_C = (np.array(mat1)).conjugate(), (np.array(mat2)).conjugate()             #Conjugada de las matrices\n",
    "    uni_1  =  np.array(mat1_C) * np.array(mat1)                                             #Unitarias de las matrices\n",
    "    uni_2 = np.array(mat2_C) * np.array(mat2)\n",
    "    identity = np.identity(len(mat1))                                                       #Matriz Identidad\n",
    "    if (uni_1 == identity).all() and (uni_2 == identity).all():                             #Verifica que las matrices unitarias sean iguales\n",
    "        mat_Prod = np.array(mat1) * np.array(mat2)\n",
    "        mat_ProdUnitaria = mat_Prod.conjugate()                                             #Producto de las matrices\n",
    "        if mat_ProdUnitaria == identity:\n",
    "            return True\n",
    "        else:\n",
    "            return False\n",
    "    return False\n",
    "\n",
    "resultado = ej3(mat1, mat2)\n",
    "print(\"Resultado de 4.4.1:\", resultado)\n"
   ]
  },
  {
   "cell_type": "markdown",
   "metadata": {},
   "source": [
    "### 4.4.2"
   ]
  },
  {
   "cell_type": "code",
   "execution_count": 61,
   "metadata": {},
   "outputs": [
    {
     "name": "stdout",
     "output_type": "stream",
     "text": [
      "Resultado de 4.4.2: 36.000000000000014\n"
     ]
    }
   ],
   "source": [
    "import numpy as np\n",
    "\n",
    "est = [1,0,0,0]\n",
    "mat =[[0, 1/math.sqrt(2),1/math.sqrt(2),0],[1j/math.sqrt(2),0,0,1/math.sqrt(2)],[1/math.sqrt(2),0,0,1j/math.sqrt(2)],[0, 1/math.sqrt(2),-1/math.sqrt(2),0]]\n",
    "\n",
    "def superposicion(v, p):\n",
    "    norma = np.linalg.norm(v) ** 2  # calcula la norma al cuadrado del vector\n",
    "    probabilidad = abs(p) ** 2 / norma  # calcula la probabilidad\n",
    "    return probabilidad\n",
    "\n",
    "def ej4(mat, est):\n",
    "    mat = np.array(mat)\n",
    "    matDe3 = mat**3\n",
    "    Acción = mat_vec(matDe3,est)                                                #Acción matriz por vector de la matriz por su vector de estado\n",
    "    result = superposicion(Acción, 3)                                           #Se saca la probabilidad\n",
    "    return result\n",
    "\n",
    "resultado = ej4(mat, est)\n",
    "print(\"Resultado de 4.4.2:\", resultado)\n"
   ]
  }
 ],
 "metadata": {
  "kernelspec": {
   "display_name": "Python 3",
   "language": "python",
   "name": "python3"
  },
  "language_info": {
   "codemirror_mode": {
    "name": "ipython",
    "version": 3
   },
   "file_extension": ".py",
   "mimetype": "text/x-python",
   "name": "python",
   "nbconvert_exporter": "python",
   "pygments_lexer": "ipython3",
   "version": "3.10.4"
  }
 },
 "nbformat": 4,
 "nbformat_minor": 2
}
